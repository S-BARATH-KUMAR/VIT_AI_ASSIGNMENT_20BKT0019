{
  "cells": [
    {
      "cell_type": "code",
      "execution_count": 1,
      "metadata": {
        "colab": {
          "base_uri": "https://localhost:8080/",
          "height": 36
        },
        "id": "-I9n9ZeInTDT",
        "outputId": "7eff5c00-15ee-42a1-c5a9-3c4382365321"
      },
      "outputs": [
        {
          "output_type": "execute_result",
          "data": {
            "text/plain": [
              "'\\nS BARATH KUMAR\\n20BKT0019\\nbarathkumar.s2020a@vitstudent.ac.in\\n8072709703\\nVIT VELLORE\\n'"
            ],
            "application/vnd.google.colaboratory.intrinsic+json": {
              "type": "string"
            }
          },
          "metadata": {},
          "execution_count": 1
        }
      ],
      "source": [
        "'''\n",
        "S BARATH KUMAR\n",
        "20BKT0019\n",
        "barathkumar.s2020a@vitstudent.ac.in\n",
        "8072709703\n",
        "VIT VELLORE\n",
        "'''"
      ]
    },
    {
      "cell_type": "code",
      "execution_count": 2,
      "metadata": {
        "id": "VqogkmTunmeh"
      },
      "outputs": [],
      "source": [
        "from tensorflow.keras.layers import Dense,Flatten,Input\n",
        "from tensorflow.keras.models import Model\n",
        "from tensorflow.keras.preprocessing import image\n",
        "from tensorflow.keras.preprocessing.image import ImageDataGenerator, load_img\n",
        "import numpy as np"
      ]
    },
    {
      "cell_type": "code",
      "execution_count": 3,
      "metadata": {
        "id": "vmSCRLJVnp6_"
      },
      "outputs": [],
      "source": [
        "train_gen = ImageDataGenerator(rescale=(1./255),horizontal_flip=True,shear_range=0.2,zoom_range=0.2)\n",
        "test_gen = ImageDataGenerator(rescale=(1./255))"
      ]
    },
    {
      "cell_type": "code",
      "execution_count": 4,
      "metadata": {
        "colab": {
          "base_uri": "https://localhost:8080/"
        },
        "id": "zTV0HXZ2nvRV",
        "outputId": "30c7147d-468d-45c1-e1cb-03a28a7de34e"
      },
      "outputs": [
        {
          "output_type": "stream",
          "name": "stdout",
          "text": [
            "Found 150 images belonging to 16 classes.\n",
            "Found 157 images belonging to 16 classes.\n"
          ]
        }
      ],
      "source": [
        "train=train_gen.flow_from_directory('/content/drive/MyDrive/train_data',target_size=(224,224),class_mode='categorical',batch_size=10)\n",
        "test=test_gen.flow_from_directory('/content/drive/MyDrive/test_data',target_size=(224,224),class_mode='categorical',batch_size=10)"
      ]
    },
    {
      "cell_type": "code",
      "execution_count": 5,
      "metadata": {
        "id": "ng8DatDfnvVe"
      },
      "outputs": [],
      "source": [
        "from tensorflow.keras.applications.vgg16 import VGG16, preprocess_input"
      ]
    },
    {
      "cell_type": "code",
      "execution_count": 6,
      "metadata": {
        "colab": {
          "base_uri": "https://localhost:8080/"
        },
        "id": "V012t4FonvZt",
        "outputId": "b6ec234e-2f43-488a-ad63-904b1cb4f665"
      },
      "outputs": [
        {
          "output_type": "stream",
          "name": "stdout",
          "text": [
            "Downloading data from https://storage.googleapis.com/tensorflow/keras-applications/vgg16/vgg16_weights_tf_dim_ordering_tf_kernels_notop.h5\n",
            "58889256/58889256 [==============================] - 2s 0us/step\n"
          ]
        }
      ],
      "source": [
        "vgg = VGG16(include_top=False,weights='imagenet',input_shape=(224,224,3))"
      ]
    },
    {
      "cell_type": "code",
      "execution_count": 7,
      "metadata": {
        "colab": {
          "base_uri": "https://localhost:8080/"
        },
        "id": "tiJBeL_epRVi",
        "outputId": "22aff202-6537-4707-dc3c-ca960643484f"
      },
      "outputs": [
        {
          "output_type": "stream",
          "name": "stdout",
          "text": [
            "<keras.engine.input_layer.InputLayer object at 0x7f9388a7f700>\n",
            "<keras.layers.convolutional.conv2d.Conv2D object at 0x7f9388ab5030>\n",
            "<keras.layers.convolutional.conv2d.Conv2D object at 0x7f9388ab58a0>\n",
            "<keras.layers.pooling.max_pooling2d.MaxPooling2D object at 0x7f9388ab6740>\n",
            "<keras.layers.convolutional.conv2d.Conv2D object at 0x7f9388ab73a0>\n",
            "<keras.layers.convolutional.conv2d.Conv2D object at 0x7f9388ab7a00>\n",
            "<keras.layers.pooling.max_pooling2d.MaxPooling2D object at 0x7f9388160c10>\n",
            "<keras.layers.convolutional.conv2d.Conv2D object at 0x7f9388ab6b90>\n",
            "<keras.layers.convolutional.conv2d.Conv2D object at 0x7f9388ab58d0>\n",
            "<keras.layers.convolutional.conv2d.Conv2D object at 0x7f9388ab5a50>\n",
            "<keras.layers.pooling.max_pooling2d.MaxPooling2D object at 0x7f9388162620>\n",
            "<keras.layers.convolutional.conv2d.Conv2D object at 0x7f9388ab4d30>\n",
            "<keras.layers.convolutional.conv2d.Conv2D object at 0x7f9388163b20>\n",
            "<keras.layers.convolutional.conv2d.Conv2D object at 0x7f9388163c70>\n",
            "<keras.layers.pooling.max_pooling2d.MaxPooling2D object at 0x7f93881692a0>\n",
            "<keras.layers.convolutional.conv2d.Conv2D object at 0x7f9388163910>\n",
            "<keras.layers.convolutional.conv2d.Conv2D object at 0x7f938816ab60>\n",
            "<keras.layers.convolutional.conv2d.Conv2D object at 0x7f938816bb80>\n",
            "<keras.layers.pooling.max_pooling2d.MaxPooling2D object at 0x7f93838281f0>\n"
          ]
        }
      ],
      "source": [
        "# Train model with existing weights\n",
        "for layer in vgg.layers:\n",
        "  print(layer)\n"
      ]
    },
    {
      "cell_type": "code",
      "execution_count": 8,
      "metadata": {
        "id": "TS43AoA6pRZI"
      },
      "outputs": [],
      "source": [
        "for layer in vgg.layers:\n",
        "  layer.trainable=False"
      ]
    },
    {
      "cell_type": "code",
      "execution_count": 9,
      "metadata": {
        "id": "7VFMXF_ApRcI"
      },
      "outputs": [],
      "source": [
        "x = Flatten()(vgg.output)"
      ]
    },
    {
      "cell_type": "code",
      "execution_count": 10,
      "metadata": {
        "id": "0ZUF1XdNpRfR"
      },
      "outputs": [],
      "source": [
        "prediction = Dense(16,activation='softmax')(x)"
      ]
    },
    {
      "cell_type": "code",
      "execution_count": 11,
      "metadata": {
        "id": "_3WQnaY9pRiP"
      },
      "outputs": [],
      "source": [
        "model = Model(inputs=vgg.input,outputs=prediction)"
      ]
    },
    {
      "cell_type": "code",
      "execution_count": 12,
      "metadata": {
        "colab": {
          "base_uri": "https://localhost:8080/"
        },
        "id": "zpmkZiHoqU1y",
        "outputId": "0cc8ac35-0fab-4428-8834-cfef35d79592"
      },
      "outputs": [
        {
          "output_type": "stream",
          "name": "stdout",
          "text": [
            "Model: \"model\"\n",
            "_________________________________________________________________\n",
            " Layer (type)                Output Shape              Param #   \n",
            "=================================================================\n",
            " input_1 (InputLayer)        [(None, 224, 224, 3)]     0         \n",
            "                                                                 \n",
            " block1_conv1 (Conv2D)       (None, 224, 224, 64)      1792      \n",
            "                                                                 \n",
            " block1_conv2 (Conv2D)       (None, 224, 224, 64)      36928     \n",
            "                                                                 \n",
            " block1_pool (MaxPooling2D)  (None, 112, 112, 64)      0         \n",
            "                                                                 \n",
            " block2_conv1 (Conv2D)       (None, 112, 112, 128)     73856     \n",
            "                                                                 \n",
            " block2_conv2 (Conv2D)       (None, 112, 112, 128)     147584    \n",
            "                                                                 \n",
            " block2_pool (MaxPooling2D)  (None, 56, 56, 128)       0         \n",
            "                                                                 \n",
            " block3_conv1 (Conv2D)       (None, 56, 56, 256)       295168    \n",
            "                                                                 \n",
            " block3_conv2 (Conv2D)       (None, 56, 56, 256)       590080    \n",
            "                                                                 \n",
            " block3_conv3 (Conv2D)       (None, 56, 56, 256)       590080    \n",
            "                                                                 \n",
            " block3_pool (MaxPooling2D)  (None, 28, 28, 256)       0         \n",
            "                                                                 \n",
            " block4_conv1 (Conv2D)       (None, 28, 28, 512)       1180160   \n",
            "                                                                 \n",
            " block4_conv2 (Conv2D)       (None, 28, 28, 512)       2359808   \n",
            "                                                                 \n",
            " block4_conv3 (Conv2D)       (None, 28, 28, 512)       2359808   \n",
            "                                                                 \n",
            " block4_pool (MaxPooling2D)  (None, 14, 14, 512)       0         \n",
            "                                                                 \n",
            " block5_conv1 (Conv2D)       (None, 14, 14, 512)       2359808   \n",
            "                                                                 \n",
            " block5_conv2 (Conv2D)       (None, 14, 14, 512)       2359808   \n",
            "                                                                 \n",
            " block5_conv3 (Conv2D)       (None, 14, 14, 512)       2359808   \n",
            "                                                                 \n",
            " block5_pool (MaxPooling2D)  (None, 7, 7, 512)         0         \n",
            "                                                                 \n",
            " flatten (Flatten)           (None, 25088)             0         \n",
            "                                                                 \n",
            " dense (Dense)               (None, 16)                401424    \n",
            "                                                                 \n",
            "=================================================================\n",
            "Total params: 15,116,112\n",
            "Trainable params: 401,424\n",
            "Non-trainable params: 14,714,688\n",
            "_________________________________________________________________\n"
          ]
        }
      ],
      "source": [
        "model.summary()"
      ]
    },
    {
      "cell_type": "code",
      "execution_count": 13,
      "metadata": {
        "id": "lCnhoFxNqU5K"
      },
      "outputs": [],
      "source": [
        "model.compile(loss='categorical_crossentropy',optimizer='adam',metrics=['accuracy'])"
      ]
    },
    {
      "cell_type": "code",
      "execution_count": 14,
      "metadata": {
        "colab": {
          "base_uri": "https://localhost:8080/"
        },
        "id": "EOGG_wQttiQR",
        "outputId": "3d7908f2-6de8-400a-bfc5-f56409513949"
      },
      "outputs": [
        {
          "output_type": "stream",
          "name": "stdout",
          "text": [
            "Epoch 1/15\n",
            "15/15 [==============================] - 228s 15s/step - loss: 3.4549 - accuracy: 0.2467 - val_loss: 3.5862 - val_accuracy: 0.2866\n",
            "Epoch 2/15\n",
            "15/15 [==============================] - 99s 7s/step - loss: 1.2810 - accuracy: 0.6267 - val_loss: 3.2649 - val_accuracy: 0.2420\n",
            "Epoch 3/15\n",
            "15/15 [==============================] - 99s 7s/step - loss: 0.7744 - accuracy: 0.8000 - val_loss: 3.4114 - val_accuracy: 0.3694\n",
            "Epoch 4/15\n",
            "15/15 [==============================] - 101s 7s/step - loss: 0.4009 - accuracy: 0.8800 - val_loss: 2.9893 - val_accuracy: 0.3822\n",
            "Epoch 5/15\n",
            "15/15 [==============================] - 100s 7s/step - loss: 0.2780 - accuracy: 0.9133 - val_loss: 3.0235 - val_accuracy: 0.3439\n",
            "Epoch 6/15\n",
            "15/15 [==============================] - 99s 7s/step - loss: 0.2035 - accuracy: 0.9267 - val_loss: 2.9340 - val_accuracy: 0.3758\n",
            "Epoch 7/15\n",
            "15/15 [==============================] - 102s 7s/step - loss: 0.1258 - accuracy: 0.9733 - val_loss: 3.0499 - val_accuracy: 0.4331\n",
            "Epoch 8/15\n",
            "15/15 [==============================] - 98s 7s/step - loss: 0.0932 - accuracy: 0.9733 - val_loss: 3.2162 - val_accuracy: 0.3822\n",
            "Epoch 9/15\n",
            "15/15 [==============================] - 126s 9s/step - loss: 0.0676 - accuracy: 0.9800 - val_loss: 3.0410 - val_accuracy: 0.4140\n",
            "Epoch 10/15\n",
            "15/15 [==============================] - 100s 7s/step - loss: 0.0478 - accuracy: 1.0000 - val_loss: 2.8570 - val_accuracy: 0.4522\n",
            "Epoch 11/15\n",
            "15/15 [==============================] - 100s 7s/step - loss: 0.0384 - accuracy: 1.0000 - val_loss: 3.1215 - val_accuracy: 0.3885\n",
            "Epoch 12/15\n",
            "15/15 [==============================] - 101s 7s/step - loss: 0.0450 - accuracy: 0.9867 - val_loss: 2.9403 - val_accuracy: 0.4331\n",
            "Epoch 13/15\n",
            "15/15 [==============================] - 125s 9s/step - loss: 0.0482 - accuracy: 0.9933 - val_loss: 3.1871 - val_accuracy: 0.4013\n",
            "Epoch 14/15\n",
            "15/15 [==============================] - 125s 9s/step - loss: 0.0367 - accuracy: 0.9867 - val_loss: 2.9693 - val_accuracy: 0.4268\n",
            "Epoch 15/15\n",
            "15/15 [==============================] - 99s 7s/step - loss: 0.0208 - accuracy: 1.0000 - val_loss: 2.9797 - val_accuracy: 0.4204\n"
          ]
        },
        {
          "output_type": "execute_result",
          "data": {
            "text/plain": [
              "<keras.callbacks.History at 0x7f93838831c0>"
            ]
          },
          "metadata": {},
          "execution_count": 14
        }
      ],
      "source": [
        "model.fit(train,validation_data=test,epochs=15,steps_per_epoch=len(train),validation_steps=len(test))"
      ]
    },
    {
      "cell_type": "code",
      "source": [
        "dict1=train.class_indices"
      ],
      "metadata": {
        "id": "ZAH_ORtz2Psk"
      },
      "execution_count": 18,
      "outputs": []
    },
    {
      "cell_type": "code",
      "source": [
        "img1 = image.load_img('/content/blasti.jpeg',target_size=(224,224))\n",
        "img1 = image.img_to_array(img1)\n",
        "img1 = np.expand_dims(img1,axis=0)\n",
        "pred = np.argmax(model.predict(img1))\n",
        "print(pred)\n",
        "for i in dict1:\n",
        "  if dict1[i]==pred:\n",
        "    print(i)\n",
        "    break"
      ],
      "metadata": {
        "colab": {
          "base_uri": "https://localhost:8080/"
        },
        "id": "-8rcvyn50DN6",
        "outputId": "b0112762-7b7c-42eb-f518-8f67acc2bc77"
      },
      "execution_count": 26,
      "outputs": [
        {
          "output_type": "stream",
          "name": "stdout",
          "text": [
            "1/1 [==============================] - 0s 21ms/step\n",
            "4\n",
            "cmnmyn\n"
          ]
        }
      ]
    },
    {
      "cell_type": "code",
      "source": [
        "img2 = image.load_img('/content/drive/MyDrive/test_data/wcrsrt/100_5103.JPG',target_size=(224,224))\n",
        "img2=image.img_to_array(img2)\n",
        "img2=np.expand_dims(img2,axis=0)\n",
        "pred=np.argmax(model.predict(img2))\n",
        "print(pred)\n",
        "for i in dict1:\n",
        "  if dict1[i]==pred:\n",
        "    print(i)\n",
        "    break"
      ],
      "metadata": {
        "colab": {
          "base_uri": "https://localhost:8080/"
        },
        "id": "bkB7zak20DYg",
        "outputId": "1f512eb6-b324-4bcb-9aa5-0327a2cded85"
      },
      "execution_count": 20,
      "outputs": [
        {
          "output_type": "stream",
          "name": "stdout",
          "text": [
            "1/1 [==============================] - 0s 21ms/step\n",
            "15\n",
            "wcrsrt\n"
          ]
        }
      ]
    },
    {
      "cell_type": "code",
      "source": [
        "img3 = image.load_img('/content/drive/MyDrive/test_data/rebimg/100_5757.JPG',target_size=(224,224))\n",
        "img3=image.img_to_array(img3)\n",
        "img3=np.expand_dims(img3,axis=0)\n",
        "pred=np.argmax(model.predict(img3))\n",
        "print(pred)\n",
        "for i in dict1:\n",
        "  if dict1[i]==pred:\n",
        "    print(i)\n",
        "    break"
      ],
      "metadata": {
        "colab": {
          "base_uri": "https://localhost:8080/"
        },
        "id": "cMNxYGuP0DjY",
        "outputId": "c9cb6da7-b39b-4b21-f956-f1d3f078c51d"
      },
      "execution_count": 25,
      "outputs": [
        {
          "output_type": "stream",
          "name": "stdout",
          "text": [
            "1/1 [==============================] - 0s 23ms/step\n",
            "14\n",
            "rebimg\n"
          ]
        }
      ]
    }
  ],
  "metadata": {
    "colab": {
      "provenance": [],
      "gpuType": "T4"
    },
    "kernelspec": {
      "display_name": "Python 3",
      "name": "python3"
    },
    "language_info": {
      "name": "python"
    },
    "accelerator": "GPU"
  },
  "nbformat": 4,
  "nbformat_minor": 0
}