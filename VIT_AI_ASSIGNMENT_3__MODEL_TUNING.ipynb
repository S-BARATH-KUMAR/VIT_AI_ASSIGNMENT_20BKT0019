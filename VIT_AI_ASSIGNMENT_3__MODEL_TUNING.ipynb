{
  "nbformat": 4,
  "nbformat_minor": 0,
  "metadata": {
    "colab": {
      "provenance": [],
      "gpuType": "T4"
    },
    "kernelspec": {
      "name": "python3",
      "display_name": "Python 3"
    },
    "language_info": {
      "name": "python"
    },
    "accelerator": "GPU"
  },
  "cells": [
    {
      "cell_type": "code",
      "execution_count": 1,
      "metadata": {
        "id": "92I2fPogdv22"
      },
      "outputs": [],
      "source": [
        "#ADDING FEATURE EXTRACTION LAYER"
      ]
    },
    {
      "cell_type": "code",
      "source": [
        "'''\n",
        "S BARATH KUMAR\n",
        "20BKT0019\n",
        "barathkumar.s2020a@vitstudent.ac.in\n",
        "8072709703\n",
        "'''"
      ],
      "metadata": {
        "colab": {
          "base_uri": "https://localhost:8080/",
          "height": 36
        },
        "id": "f5DBwWtAeTEX",
        "outputId": "640c1f13-7203-4eb1-cdbc-2f718b127bef"
      },
      "execution_count": 1,
      "outputs": [
        {
          "output_type": "execute_result",
          "data": {
            "text/plain": [
              "'\\nS BARATH KUMAR\\n20BKT0019\\nbarathkumar.s2020a@vitstudent.ac.in\\n8072709703\\n'"
            ],
            "application/vnd.google.colaboratory.intrinsic+json": {
              "type": "string"
            }
          },
          "metadata": {},
          "execution_count": 1
        }
      ]
    },
    {
      "cell_type": "code",
      "source": [
        "from tensorflow.keras.preprocessing.image import ImageDataGenerator"
      ],
      "metadata": {
        "id": "N-RiubeLeRJ-"
      },
      "execution_count": 2,
      "outputs": []
    },
    {
      "cell_type": "code",
      "source": [
        "train_gen = ImageDataGenerator(rescale=(1./255),horizontal_flip=True,shear_range=0.2)\n",
        "test_gen = ImageDataGenerator(rescale=(1./255))"
      ],
      "metadata": {
        "id": "0T4_6_7ieygQ"
      },
      "execution_count": 3,
      "outputs": []
    },
    {
      "cell_type": "code",
      "source": [
        "train=train_gen.flow_from_directory('/content/drive/MyDrive/train_data',target_size=(150,150),class_mode='categorical',batch_size=10)\n",
        "test=test_gen.flow_from_directory('/content/drive/MyDrive/test_data',target_size=(150,150),class_mode='categorical',batch_size=10)"
      ],
      "metadata": {
        "colab": {
          "base_uri": "https://localhost:8080/"
        },
        "id": "_B565a7we8Cw",
        "outputId": "b2c544e5-4759-4b76-cccc-d1c5bd41cfb4"
      },
      "execution_count": 4,
      "outputs": [
        {
          "output_type": "stream",
          "name": "stdout",
          "text": [
            "Found 150 images belonging to 16 classes.\n",
            "Found 157 images belonging to 16 classes.\n"
          ]
        }
      ]
    },
    {
      "cell_type": "code",
      "source": [
        "dict1=train.class_indices"
      ],
      "metadata": {
        "id": "O8j4rL4ve8GA"
      },
      "execution_count": 5,
      "outputs": []
    },
    {
      "cell_type": "code",
      "source": [
        "print(dict1)"
      ],
      "metadata": {
        "colab": {
          "base_uri": "https://localhost:8080/"
        },
        "id": "Ox_jnBmee8JA",
        "outputId": "b6c70fde-7baa-49d7-f547-3ceecb44bf8a"
      },
      "execution_count": 6,
      "outputs": [
        {
          "output_type": "stream",
          "name": "stdout",
          "text": [
            "{'blasti': 0, 'bonegl': 1, 'brhkyt': 2, 'cbrtsh': 3, 'cmnmyn': 4, 'gretit': 5, 'hilpig': 6, 'himbul': 7, 'himgri': 8, 'hsparo': 9, 'indvul': 10, 'jglowl': 11, 'lbicrw': 12, 'mgprob': 13, 'rebimg': 14, 'wcrsrt': 15}\n"
          ]
        }
      ]
    },
    {
      "cell_type": "code",
      "source": [
        "from tensorflow.keras.layers import Convolution2D,MaxPooling2D,Flatten,Dense\n",
        "from tensorflow.keras.models import Sequential"
      ],
      "metadata": {
        "id": "xi5uuGQze8MY"
      },
      "execution_count": 7,
      "outputs": []
    },
    {
      "cell_type": "code",
      "source": [
        "model = Sequential()\n",
        "model.add(Convolution2D(12,(3,3),activation='relu',input_shape=(150, 150, 3)))\n",
        "model.add(MaxPooling2D(pool_size=(2,2)))\n",
        "model.add(Convolution2D(24,(3,3),activation='relu'))\n",
        "model.add(MaxPooling2D(pool_size=(2,2)))\n",
        "model.add(Convolution2D(36,(3,3),activation='relu'))\n",
        "model.add(MaxPooling2D(pool_size=(2,2)))\n",
        "model.add(Flatten())\n",
        "model.add(Dense(180,activation='relu'))\n",
        "model.add(Dense(130,activation='relu'))\n",
        "model.add(Dense(60,activation='relu'))\n",
        "model.add(Dense(28,activation='relu'))\n",
        "model.add(Dense(16,activation='softmax'))"
      ],
      "metadata": {
        "id": "t1IowXrYfbEm"
      },
      "execution_count": 8,
      "outputs": []
    },
    {
      "cell_type": "code",
      "source": [
        "model.summary()"
      ],
      "metadata": {
        "colab": {
          "base_uri": "https://localhost:8080/"
        },
        "id": "ixCCtzbpfbIw",
        "outputId": "9df395ce-43aa-43ba-d643-780da07dd74d"
      },
      "execution_count": 9,
      "outputs": [
        {
          "output_type": "stream",
          "name": "stdout",
          "text": [
            "Model: \"sequential\"\n",
            "_________________________________________________________________\n",
            " Layer (type)                Output Shape              Param #   \n",
            "=================================================================\n",
            " conv2d (Conv2D)             (None, 148, 148, 12)      336       \n",
            "                                                                 \n",
            " max_pooling2d (MaxPooling2D  (None, 74, 74, 12)       0         \n",
            " )                                                               \n",
            "                                                                 \n",
            " conv2d_1 (Conv2D)           (None, 72, 72, 24)        2616      \n",
            "                                                                 \n",
            " max_pooling2d_1 (MaxPooling  (None, 36, 36, 24)       0         \n",
            " 2D)                                                             \n",
            "                                                                 \n",
            " conv2d_2 (Conv2D)           (None, 34, 34, 36)        7812      \n",
            "                                                                 \n",
            " max_pooling2d_2 (MaxPooling  (None, 17, 17, 36)       0         \n",
            " 2D)                                                             \n",
            "                                                                 \n",
            " flatten (Flatten)           (None, 10404)             0         \n",
            "                                                                 \n",
            " dense (Dense)               (None, 180)               1872900   \n",
            "                                                                 \n",
            " dense_1 (Dense)             (None, 130)               23530     \n",
            "                                                                 \n",
            " dense_2 (Dense)             (None, 60)                7860      \n",
            "                                                                 \n",
            " dense_3 (Dense)             (None, 28)                1708      \n",
            "                                                                 \n",
            " dense_4 (Dense)             (None, 16)                464       \n",
            "                                                                 \n",
            "=================================================================\n",
            "Total params: 1,917,226\n",
            "Trainable params: 1,917,226\n",
            "Non-trainable params: 0\n",
            "_________________________________________________________________\n"
          ]
        }
      ]
    },
    {
      "cell_type": "code",
      "source": [
        "model.compile(optimizer='adam',loss='categorical_crossentropy',metrics=['accuracy'])"
      ],
      "metadata": {
        "id": "I2inOlMYfbMA"
      },
      "execution_count": 10,
      "outputs": []
    },
    {
      "cell_type": "code",
      "source": [
        "model.fit(train,batch_size=10,validation_data=test,epochs=15)"
      ],
      "metadata": {
        "colab": {
          "base_uri": "https://localhost:8080/"
        },
        "id": "7xGmysmLfbPf",
        "outputId": "504253a6-e366-41b1-bee1-914c16e29621"
      },
      "execution_count": 12,
      "outputs": [
        {
          "output_type": "stream",
          "name": "stdout",
          "text": [
            "Epoch 1/15\n",
            "15/15 [==============================] - 230s 15s/step - loss: 2.7832 - accuracy: 0.0800 - val_loss: 2.7396 - val_accuracy: 0.1274\n",
            "Epoch 2/15\n",
            "15/15 [==============================] - 86s 6s/step - loss: 2.7302 - accuracy: 0.1400 - val_loss: 2.7027 - val_accuracy: 0.1083\n",
            "Epoch 3/15\n",
            "15/15 [==============================] - 86s 6s/step - loss: 2.7220 - accuracy: 0.1467 - val_loss: 2.7023 - val_accuracy: 0.1338\n",
            "Epoch 4/15\n",
            "15/15 [==============================] - 87s 6s/step - loss: 2.6849 - accuracy: 0.1667 - val_loss: 2.7387 - val_accuracy: 0.1146\n",
            "Epoch 5/15\n",
            "15/15 [==============================] - 86s 6s/step - loss: 2.6091 - accuracy: 0.1933 - val_loss: 2.7182 - val_accuracy: 0.1656\n",
            "Epoch 6/15\n",
            "15/15 [==============================] - 86s 6s/step - loss: 2.4883 - accuracy: 0.1867 - val_loss: 2.7699 - val_accuracy: 0.1465\n",
            "Epoch 7/15\n",
            "15/15 [==============================] - 86s 6s/step - loss: 2.4042 - accuracy: 0.2067 - val_loss: 2.8414 - val_accuracy: 0.1656\n",
            "Epoch 8/15\n",
            "15/15 [==============================] - 84s 6s/step - loss: 2.4488 - accuracy: 0.1867 - val_loss: 2.7324 - val_accuracy: 0.1529\n",
            "Epoch 9/15\n",
            "15/15 [==============================] - 84s 6s/step - loss: 2.3637 - accuracy: 0.2000 - val_loss: 2.7364 - val_accuracy: 0.1847\n",
            "Epoch 10/15\n",
            "15/15 [==============================] - 84s 6s/step - loss: 2.2456 - accuracy: 0.2000 - val_loss: 2.8020 - val_accuracy: 0.1592\n",
            "Epoch 11/15\n",
            "15/15 [==============================] - 119s 8s/step - loss: 2.1862 - accuracy: 0.2333 - val_loss: 2.7001 - val_accuracy: 0.2102\n",
            "Epoch 12/15\n",
            "15/15 [==============================] - 86s 6s/step - loss: 2.0527 - accuracy: 0.2800 - val_loss: 2.7603 - val_accuracy: 0.1783\n",
            "Epoch 13/15\n",
            "15/15 [==============================] - 85s 6s/step - loss: 1.9345 - accuracy: 0.3067 - val_loss: 2.8801 - val_accuracy: 0.1656\n",
            "Epoch 14/15\n",
            "15/15 [==============================] - 83s 6s/step - loss: 1.9057 - accuracy: 0.3667 - val_loss: 3.0320 - val_accuracy: 0.1975\n",
            "Epoch 15/15\n",
            "15/15 [==============================] - 84s 6s/step - loss: 1.8967 - accuracy: 0.3200 - val_loss: 2.8808 - val_accuracy: 0.1911\n"
          ]
        },
        {
          "output_type": "execute_result",
          "data": {
            "text/plain": [
              "<keras.callbacks.History at 0x7f871d75b9a0>"
            ]
          },
          "metadata": {},
          "execution_count": 12
        }
      ]
    },
    {
      "cell_type": "code",
      "source": [
        "# testing\n",
        "import numpy as np\n",
        "from tensorflow.keras.preprocessing import image"
      ],
      "metadata": {
        "id": "bBkUHd84mp4Y"
      },
      "execution_count": 14,
      "outputs": []
    },
    {
      "cell_type": "code",
      "source": [
        "img1 = image.load_img('/content/drive/MyDrive/test_data/himbul/DSC_3230.jpg',target_size=(150,150))\n",
        "img1 = image.img_to_array(img1)\n",
        "img1 = np.expand_dims(img1,axis=0)\n",
        "pred = np.argmax(model.predict(img1))\n",
        "print(pred)\n",
        "for i in dict1:\n",
        "  if dict1[i]==pred:\n",
        "    print(i)\n",
        "    break"
      ],
      "metadata": {
        "colab": {
          "base_uri": "https://localhost:8080/"
        },
        "id": "ne0YiNjwfbS6",
        "outputId": "bee3e91c-58e6-402e-9d8c-18cb6e5ea9d6"
      },
      "execution_count": 15,
      "outputs": [
        {
          "output_type": "stream",
          "name": "stdout",
          "text": [
            "1/1 [==============================] - 0s 212ms/step\n",
            "14\n",
            "rebimg\n"
          ]
        }
      ]
    },
    {
      "cell_type": "code",
      "source": [
        "img2 = image.load_img('/content/drive/MyDrive/test_data/wcrsrt/100_5103.JPG',target_size=(150,150))\n",
        "img2=image.img_to_array(img2)\n",
        "img2=np.expand_dims(img2,axis=0)\n",
        "pred=np.argmax(model.predict(img2))\n",
        "print(pred)\n",
        "for i in dict1:\n",
        "  if dict1[i]==pred:\n",
        "    print(i)\n",
        "    break"
      ],
      "metadata": {
        "colab": {
          "base_uri": "https://localhost:8080/"
        },
        "id": "BcycC-qtgrC2",
        "outputId": "d31b9e33-0891-4f86-8742-d59db994974f"
      },
      "execution_count": 16,
      "outputs": [
        {
          "output_type": "stream",
          "name": "stdout",
          "text": [
            "1/1 [==============================] - 0s 26ms/step\n",
            "14\n",
            "rebimg\n"
          ]
        }
      ]
    },
    {
      "cell_type": "code",
      "source": [
        "img3 = image.load_img('/content/test1.jpg',target_size=(150,150))\n",
        "img3=image.img_to_array(img3)\n",
        "img3=np.expand_dims(img3,axis=0)\n",
        "pred=np.argmax(model.predict(img3))\n",
        "print(pred)\n",
        "for i in dict1:\n",
        "  if dict1[i]==pred:\n",
        "    print(i)\n",
        "    break"
      ],
      "metadata": {
        "colab": {
          "base_uri": "https://localhost:8080/"
        },
        "id": "kVmg5JIlgrMm",
        "outputId": "d72d8a86-7b6c-4520-c7d4-d1615bfeacb7"
      },
      "execution_count": 17,
      "outputs": [
        {
          "output_type": "stream",
          "name": "stdout",
          "text": [
            "1/1 [==============================] - 0s 18ms/step\n",
            "14\n",
            "rebimg\n"
          ]
        }
      ]
    },
    {
      "cell_type": "markdown",
      "source": [
        "Model Tuning with dropout , Batch Normalization and Early Stopping"
      ],
      "metadata": {
        "id": "XruCkwU0iKEa"
      }
    },
    {
      "cell_type": "code",
      "source": [
        "from tensorflow.keras.layers import BatchNormalization, Dropout"
      ],
      "metadata": {
        "id": "N2cBNbU1iFl6"
      },
      "execution_count": 18,
      "outputs": []
    },
    {
      "cell_type": "code",
      "source": [
        "model = Sequential()\n",
        "model.add(Convolution2D(12,(3,3),activation='relu',input_shape=(150, 150, 3)))\n",
        "model.add(BatchNormalization())\n",
        "model.add(MaxPooling2D(pool_size=(2,2)))\n",
        "model.add(Dropout(0.2))\n",
        "model.add(Convolution2D(24,(3,3),activation='relu'))\n",
        "model.add(BatchNormalization())\n",
        "model.add(MaxPooling2D(pool_size=(2,2)))\n",
        "model.add(Dropout(0.2))\n",
        "model.add(Convolution2D(36,(3,3),activation='relu'))\n",
        "model.add(BatchNormalization())\n",
        "model.add(MaxPooling2D(pool_size=(2,2)))\n",
        "model.add(Dropout(0.2))\n",
        "model.add(Flatten())\n",
        "model.add(Dense(180,activation='relu'))\n",
        "model.add(Dense(130,activation='relu'))\n",
        "model.add(Dense(60,activation='relu'))\n",
        "model.add(Dense(28,activation='relu'))\n",
        "model.add(Dense(16,activation='softmax'))"
      ],
      "metadata": {
        "id": "qVKOMcUbiFph"
      },
      "execution_count": 19,
      "outputs": []
    },
    {
      "cell_type": "code",
      "source": [
        "model.summary()"
      ],
      "metadata": {
        "colab": {
          "base_uri": "https://localhost:8080/"
        },
        "id": "VXdp0x5CiFtS",
        "outputId": "db2df022-fca4-4218-828d-e17c4cb7af78"
      },
      "execution_count": 20,
      "outputs": [
        {
          "output_type": "stream",
          "name": "stdout",
          "text": [
            "Model: \"sequential_1\"\n",
            "_________________________________________________________________\n",
            " Layer (type)                Output Shape              Param #   \n",
            "=================================================================\n",
            " conv2d_3 (Conv2D)           (None, 148, 148, 12)      336       \n",
            "                                                                 \n",
            " batch_normalization (BatchN  (None, 148, 148, 12)     48        \n",
            " ormalization)                                                   \n",
            "                                                                 \n",
            " max_pooling2d_3 (MaxPooling  (None, 74, 74, 12)       0         \n",
            " 2D)                                                             \n",
            "                                                                 \n",
            " dropout (Dropout)           (None, 74, 74, 12)        0         \n",
            "                                                                 \n",
            " conv2d_4 (Conv2D)           (None, 72, 72, 24)        2616      \n",
            "                                                                 \n",
            " batch_normalization_1 (Batc  (None, 72, 72, 24)       96        \n",
            " hNormalization)                                                 \n",
            "                                                                 \n",
            " max_pooling2d_4 (MaxPooling  (None, 36, 36, 24)       0         \n",
            " 2D)                                                             \n",
            "                                                                 \n",
            " dropout_1 (Dropout)         (None, 36, 36, 24)        0         \n",
            "                                                                 \n",
            " conv2d_5 (Conv2D)           (None, 34, 34, 36)        7812      \n",
            "                                                                 \n",
            " batch_normalization_2 (Batc  (None, 34, 34, 36)       144       \n",
            " hNormalization)                                                 \n",
            "                                                                 \n",
            " max_pooling2d_5 (MaxPooling  (None, 17, 17, 36)       0         \n",
            " 2D)                                                             \n",
            "                                                                 \n",
            " dropout_2 (Dropout)         (None, 17, 17, 36)        0         \n",
            "                                                                 \n",
            " flatten_1 (Flatten)         (None, 10404)             0         \n",
            "                                                                 \n",
            " dense_5 (Dense)             (None, 180)               1872900   \n",
            "                                                                 \n",
            " dense_6 (Dense)             (None, 130)               23530     \n",
            "                                                                 \n",
            " dense_7 (Dense)             (None, 60)                7860      \n",
            "                                                                 \n",
            " dense_8 (Dense)             (None, 28)                1708      \n",
            "                                                                 \n",
            " dense_9 (Dense)             (None, 16)                464       \n",
            "                                                                 \n",
            "=================================================================\n",
            "Total params: 1,917,514\n",
            "Trainable params: 1,917,370\n",
            "Non-trainable params: 144\n",
            "_________________________________________________________________\n"
          ]
        }
      ]
    },
    {
      "cell_type": "code",
      "source": [
        "model.compile(optimizer='adam',loss='categorical_crossentropy',metrics=['accuracy'])"
      ],
      "metadata": {
        "id": "BtbxihzXiFxJ"
      },
      "execution_count": 21,
      "outputs": []
    },
    {
      "cell_type": "code",
      "source": [
        "from tensorflow.keras.callbacks import EarlyStopping"
      ],
      "metadata": {
        "id": "x-dUwWfViF07"
      },
      "execution_count": 22,
      "outputs": []
    },
    {
      "cell_type": "code",
      "source": [
        "early_stop = EarlyStopping(monitor='accuracy',patience=5)"
      ],
      "metadata": {
        "id": "-w0pxYt4jhOr"
      },
      "execution_count": 23,
      "outputs": []
    },
    {
      "cell_type": "code",
      "source": [
        "model.fit(train,batch_size=10,validation_data=test,epochs=15,callbacks=early_stop)"
      ],
      "metadata": {
        "colab": {
          "base_uri": "https://localhost:8080/"
        },
        "id": "4AcTovcbiF7L",
        "outputId": "24559e55-78f5-483e-e539-fb4622e439f8"
      },
      "execution_count": 24,
      "outputs": [
        {
          "output_type": "stream",
          "name": "stdout",
          "text": [
            "Epoch 1/15\n",
            "15/15 [==============================] - 88s 6s/step - loss: 3.1667 - accuracy: 0.1400 - val_loss: 2.8744 - val_accuracy: 0.0573\n",
            "Epoch 2/15\n",
            "15/15 [==============================] - 82s 6s/step - loss: 2.4770 - accuracy: 0.2467 - val_loss: 3.2360 - val_accuracy: 0.0573\n",
            "Epoch 3/15\n",
            "15/15 [==============================] - 83s 6s/step - loss: 2.3329 - accuracy: 0.2400 - val_loss: 3.5522 - val_accuracy: 0.0573\n",
            "Epoch 4/15\n",
            "15/15 [==============================] - 118s 8s/step - loss: 2.4261 - accuracy: 0.2733 - val_loss: 3.5234 - val_accuracy: 0.0573\n",
            "Epoch 5/15\n",
            "15/15 [==============================] - 83s 6s/step - loss: 2.2955 - accuracy: 0.3067 - val_loss: 3.5240 - val_accuracy: 0.0828\n",
            "Epoch 6/15\n",
            "15/15 [==============================] - 85s 6s/step - loss: 2.0482 - accuracy: 0.3600 - val_loss: 4.6376 - val_accuracy: 0.0573\n",
            "Epoch 7/15\n",
            "15/15 [==============================] - 86s 6s/step - loss: 2.1423 - accuracy: 0.3267 - val_loss: 4.4320 - val_accuracy: 0.0573\n",
            "Epoch 8/15\n",
            "15/15 [==============================] - 83s 6s/step - loss: 1.9670 - accuracy: 0.3533 - val_loss: 4.9742 - val_accuracy: 0.0573\n",
            "Epoch 9/15\n",
            "15/15 [==============================] - 83s 6s/step - loss: 1.9313 - accuracy: 0.3600 - val_loss: 5.3415 - val_accuracy: 0.0573\n",
            "Epoch 10/15\n",
            "15/15 [==============================] - 83s 6s/step - loss: 1.8157 - accuracy: 0.4200 - val_loss: 5.6630 - val_accuracy: 0.0573\n",
            "Epoch 11/15\n",
            "15/15 [==============================] - 83s 6s/step - loss: 1.8043 - accuracy: 0.4200 - val_loss: 5.6112 - val_accuracy: 0.0573\n",
            "Epoch 12/15\n",
            "15/15 [==============================] - 83s 6s/step - loss: 1.8032 - accuracy: 0.4000 - val_loss: 7.1489 - val_accuracy: 0.0573\n",
            "Epoch 13/15\n",
            "15/15 [==============================] - 84s 6s/step - loss: 1.6417 - accuracy: 0.4000 - val_loss: 10.0290 - val_accuracy: 0.0573\n",
            "Epoch 14/15\n",
            "15/15 [==============================] - 84s 6s/step - loss: 1.5098 - accuracy: 0.4867 - val_loss: 5.6409 - val_accuracy: 0.0573\n",
            "Epoch 15/15\n",
            "15/15 [==============================] - 85s 6s/step - loss: 1.4570 - accuracy: 0.5133 - val_loss: 5.5331 - val_accuracy: 0.0573\n"
          ]
        },
        {
          "output_type": "execute_result",
          "data": {
            "text/plain": [
              "<keras.callbacks.History at 0x7f871c1ec7f0>"
            ]
          },
          "metadata": {},
          "execution_count": 24
        }
      ]
    },
    {
      "cell_type": "code",
      "source": [
        "img1 = image.load_img('/content/drive/MyDrive/test_data/himbul/DSC_3230.jpg',target_size=(150,150))\n",
        "img1 = image.img_to_array(img1)\n",
        "img1 = np.expand_dims(img1,axis=0)\n",
        "pred = np.argmax(model.predict(img1))\n",
        "print(pred)\n",
        "for i in dict1:\n",
        "  if dict1[i]==pred:\n",
        "    print(i)\n",
        "    break"
      ],
      "metadata": {
        "colab": {
          "base_uri": "https://localhost:8080/"
        },
        "id": "Mdyy5Tu_iF_l",
        "outputId": "f3ac2aa5-c6be-426a-fe4e-c348b4524fba"
      },
      "execution_count": 28,
      "outputs": [
        {
          "output_type": "stream",
          "name": "stdout",
          "text": [
            "1/1 [==============================] - 0s 18ms/step\n",
            "7\n",
            "himbul\n"
          ]
        }
      ]
    },
    {
      "cell_type": "code",
      "source": [
        "img2 = image.load_img('/content/drive/MyDrive/test_data/wcrsrt/100_5103.JPG',target_size=(150,150))\n",
        "img2=image.img_to_array(img2)\n",
        "img2=np.expand_dims(img2,axis=0)\n",
        "pred=np.argmax(model.predict(img2))\n",
        "print(pred)\n",
        "for i in dict1:\n",
        "  if dict1[i]==pred:\n",
        "    print(i)\n",
        "    break"
      ],
      "metadata": {
        "colab": {
          "base_uri": "https://localhost:8080/"
        },
        "id": "DjD1W5AFiGD5",
        "outputId": "12c9df3d-7ea5-47d0-ad9d-01e5510a9fb4"
      },
      "execution_count": 29,
      "outputs": [
        {
          "output_type": "stream",
          "name": "stdout",
          "text": [
            "1/1 [==============================] - 0s 28ms/step\n",
            "7\n",
            "himbul\n"
          ]
        }
      ]
    },
    {
      "cell_type": "code",
      "source": [
        "img3 = image.load_img('/content/test1.jpg',target_size=(150,150))\n",
        "img3=image.img_to_array(img3)\n",
        "img3=np.expand_dims(img3,axis=0)\n",
        "pred=np.argmax(model.predict(img3))\n",
        "print(pred)\n",
        "for i in dict1:\n",
        "  if dict1[i]==pred:\n",
        "    print(i)\n",
        "    break"
      ],
      "metadata": {
        "colab": {
          "base_uri": "https://localhost:8080/"
        },
        "id": "-_Vou-1jiGH8",
        "outputId": "50da98b0-e026-48ad-c67a-b9ed3730f727"
      },
      "execution_count": 30,
      "outputs": [
        {
          "output_type": "stream",
          "name": "stdout",
          "text": [
            "1/1 [==============================] - 0s 19ms/step\n",
            "7\n",
            "himbul\n"
          ]
        }
      ]
    },
    {
      "cell_type": "code",
      "source": [],
      "metadata": {
        "id": "HA4lz7dCiGL5"
      },
      "execution_count": null,
      "outputs": []
    }
  ]
}